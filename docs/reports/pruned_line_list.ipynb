{
 "cells": [
  {
   "cell_type": "markdown",
   "id": "8a7686b2-9a56-4a0d-9527-9439278a1b6f",
   "metadata": {},
   "source": [
    "# Parse Curated CubIXSS Line List\n",
    "\n",
    "Athiray curated a line list for both MOXSI and SASS. This notebook cleans up this line list a bit and builds it into a machine readable format.\n",
    "It also adds a few additional lines."
   ]
  },
  {
   "cell_type": "code",
   "execution_count": 1,
   "id": "bf44d454-f463-4af2-95c6-0cdce8d7b8ad",
   "metadata": {},
   "outputs": [],
   "source": [
    "import fiasco\n",
    "import astropy.io.ascii\n",
    "import copy\n",
    "import numpy as np\n",
    "import astropy.units as u\n",
    "import matplotlib.pyplot as plt"
   ]
  },
  {
   "cell_type": "markdown",
   "id": "9870dd9e-2caa-4cbf-b44c-ea6a9c2ef11f",
   "metadata": {},
   "source": [
    "## Additional Lines"
   ]
  },
  {
   "cell_type": "code",
   "execution_count": 2,
   "id": "eff43fed-6cff-4f90-8dd5-6f93df1a499b",
   "metadata": {},
   "outputs": [
    {
     "name": "stderr",
     "output_type": "stream",
     "text": [
      "WARNING: No proton data available for Si 14. Not including proton excitation and de-excitation in level populations calculation. [fiasco.ions]\n"
     ]
    }
   ],
   "source": [
    "si14 = fiasco.Ion('Si XIV', np.logspace(6,8,10000)*u.K)\n",
    "goft_si14 = si14.contribution_function(1e9*u.cm**(-3))\n",
    "# I selected this particular transition from the more complete line list\n",
    "transition = 6.1803998947143555  * u.AA\n",
    "i_transition = np.argmin(np.fabs(si14.transitions.wavelength[~si14.transitions.is_twophoton] - transition))\n",
    "goft_si14_select = goft_si14[..., i_transition].squeeze()"
   ]
  },
  {
   "cell_type": "code",
   "execution_count": 3,
   "id": "8d0cf414-8679-4fd5-9257-7b9a43cb09c4",
   "metadata": {},
   "outputs": [
    {
     "data": {
      "text/plain": [
       "(1e-28, 1e-24)"
      ]
     },
     "execution_count": 3,
     "metadata": {},
     "output_type": "execute_result"
    },
    {
     "data": {
      "image/png": "[encoded data removed]",
      "text/plain": [
       "<Figure size 640x480 with 1 Axes>"
      ]
     },
     "metadata": {},
     "output_type": "display_data"
    }
   ],
   "source": [
    "plt.plot(si14.temperature, goft_si14_select)\n",
    "plt.xscale('log')\n",
    "plt.yscale('log')\n",
    "plt.ylim(1e-28,1e-24)"
   ]
  },
  {
   "cell_type": "markdown",
   "id": "82914a56-e156-4666-8c62-9d46e740477c",
   "metadata": {},
   "source": [
    "## Parse Table"
   ]
  },
  {
   "cell_type": "code",
   "execution_count": 4,
   "id": "fefa1d58-429d-49df-9716-a930976d0bba",
   "metadata": {},
   "outputs": [],
   "source": [
    "def parse_grid_table(text):\n",
    "    import docutils.statemachine\n",
    "    import docutils.parsers.rst.tableparser\n",
    "    # Clean up the input: get rid of empty lines and strip all leading and\n",
    "    # trailing whitespace.\n",
    "    lines = filter(bool, (line.strip() for line in text.splitlines()))\n",
    "    parser = docutils.parsers.rst.tableparser.GridTableParser()\n",
    "    return parser.parse(docutils.statemachine.StringList(list(lines)))"
   ]
  },
  {
   "cell_type": "code",
   "execution_count": 5,
   "id": "e1f60f1d-48b4-46ac-8e10-96be4917e5d2",
   "metadata": {},
   "outputs": [],
   "source": [
    "athiray_line_table = \"\"\"\n",
    "+------+---------------+-------+----------+--------+---------+-------+\n",
    "| **I  | **Wavelength  | **Di  | **Inst** | **Peak | **Peak  | **Sen |\n",
    "| on** | (A)**         | agnos |          | Emis   | Emi     | sitiv |\n",
    "|      |               | tic** |          | sivity | ssivity | ity** |\n",
    "|      |               |       |          | Temp   | Temp    |       |\n",
    "|      |               |       |          | (Maxw  | (k=2)** |       |\n",
    "|      |               |       |          | ell)** |         |       |\n",
    "+======+===============+=======+==========+========+=========+=======+\n",
    "| Fe   | 1.86          | T     | SASS     | 7.5    | 7.5     | FL    |\n",
    "| XXV  |               |       |          |        |         |       |\n",
    "+------+---------------+-------+----------+--------+---------+-------+\n",
    "| Ca   | 3.21          | T     | SASS     | 7.4    | 7.5     | FL    |\n",
    "| XIX  |               |       |          |        |         |       |\n",
    "+------+---------------+-------+----------+--------+---------+-------+\n",
    "| Si   | 6.74          | T     | SAS      | 7.     | 7.1     | FL    |\n",
    "| XIII |               |       | S/MOXSI? |        |         |       |\n",
    "+------+---------------+-------+----------+--------+---------+-------+\n",
    "| Mg   | 8.419         | T     | SAS      | 7.     | 7.2     | FL    |\n",
    "| XII  |               |       | S/MOXSI? |        |         |       |\n",
    "+------+---------------+-------+----------+--------+---------+-------+\n",
    "| Mg   | 9.169, 9.314  | T     | MOXSI    | 6.8    | 7.0     | FL/AR |\n",
    "| XI   |               |       |          |        |         |       |\n",
    "+------+---------------+-------+----------+--------+---------+-------+\n",
    "| Fe   | 11.2          | T, κ  | MOXSI    | 6.8    | 6.9     | FL/AR |\n",
    "| XVII | 5,15.015,15.2 |       |          |        |         |       |\n",
    "|      | 5,16.78,17.05 |       |          |        |         |       |\n",
    "+------+---------------+-------+----------+--------+---------+-------+\n",
    "| Fe   | 12.83         | T     | MOXSI    | 7      | 7.2     | FL    |\n",
    "| XX   |               |       |          |        |         |       |\n",
    "+------+---------------+-------+----------+--------+---------+-------+\n",
    "| Ne   | 13.447,13.669 | T, κ  | MOXSI    | 6.6    | 6.7     | FL/AR |\n",
    "| IX   |               |       |          |        |         |       |\n",
    "+------+---------------+-------+----------+--------+---------+-------+\n",
    "| Fe   | 13.53         | T     | MOXSI    | 7.     | 7.2     | FL    |\n",
    "| XIX  |               |       |          |        |         |       |\n",
    "+------+---------------+-------+----------+--------+---------+-------+\n",
    "| Fe   | 14.204,       | T, κ  | MOXSI    | 6.9    | 7.      | FL/AR |\n",
    "| X    | 17.621        |       |          |        |         |       |\n",
    "| VIII |               |       |          |        |         |       |\n",
    "+------+---------------+-------+----------+--------+---------+-------+\n",
    "| O    | 18.967,       | T, κ, | MOXSI    | 6.5    | 6.6     | FL/AR |\n",
    "| VIII | 16.006        | n     |          |        |         |       |\n",
    "+------+---------------+-------+----------+--------+---------+-------+\n",
    "| O    | 21.60, 21.81, | T, κ, | MOXSI    | 6.3    | 6.4     | FL/AR |\n",
    "| VII  | 22.10, 18.67  | n     |          |        |         |       |\n",
    "+------+---------------+-------+----------+--------+---------+-------+\n",
    "| N    | 24.77         | T     | MOXSI    | 6.3    | 6.5     | FL/AR |\n",
    "| VII  |               |       |          |        |         |       |\n",
    "+------+---------------+-------+----------+--------+---------+-------+\n",
    "| C VI | 33.73         | T     | MOXSI    | 6.1    | 6.3     | AR    |\n",
    "+------+---------------+-------+----------+--------+---------+-------+\n",
    "| C V  | 40.27         | T     | MOXSI    | 6.     | 6.1     | AR    |\n",
    "+------+---------------+-------+----------+--------+---------+-------+\n",
    "| Si   | 44.16         | T     | MOXSI    | 6.3    | 6.5     | FL/AR |\n",
    "| XII  |               |       |          |        |         |       |\n",
    "+------+---------------+-------+----------+--------+---------+-------+\n",
    "| Si   | 49.18         | T     | MOXSI    | 6.2    | 6.3     | AR    |\n",
    "| XI   |               |       |          |        |         |       |\n",
    "+------+---------------+-------+----------+--------+---------+-------+\n",
    "| Fe   | 11.171        | T     | SASS?/   | 7.3    | 7.5     | FL    |\n",
    "| XXIV |               |       | MOXSI    |        |         |       |\n",
    "+------+---------------+-------+----------+--------+---------+-------+\n",
    "| Fe   | 11.737        | T     | SASS?/   | 7.2    | 7.5     | FL    |\n",
    "| X    |               |       | MOXSI    |        |         |       |\n",
    "| XIII |               |       |          |        |         |       |\n",
    "+------+---------------+-------+----------+--------+---------+-------+\n",
    "| Ne X | 12.137        | T     | SASS?/   | 6.8    | 6.9     | FL/AR |\n",
    "|      |               |       | MOXSI    |        |         |       |\n",
    "+------+---------------+-------+----------+--------+---------+-------+\n",
    "\n",
    "\"\"\""
   ]
  },
  {
   "cell_type": "code",
   "execution_count": 6,
   "id": "73250299-db1b-408d-a55c-51d70b6f09ee",
   "metadata": {},
   "outputs": [],
   "source": [
    "# This is parsed from an RST version of the table that was curated by Athiray\n",
    "parsed_rst = parse_grid_table(athiray_line_table)\n",
    "column_names = [''.join(col[-1]) for col in parsed_rst[1][0]]\n",
    "column_names = [n[2:-2] for n in column_names]\n",
    "rows = []\n",
    "for _row in parsed_rst[2]:\n",
    "    row = [''.join(col[-1]) for col in _row]\n",
    "    rows.append(row)\n",
    "line_table = astropy.table.QTable(rows=rows, names=column_names)\n",
    "# Split out rows with multiple transitions into a new table\n",
    "new_rows = []\n",
    "rows_to_remove = []\n",
    "for row in line_table:\n",
    "    if len(wavelengths:=row['Wavelength(A)'].split(',')) > 1:\n",
    "        for wave in wavelengths:\n",
    "            new_row = copy.deepcopy(row)\n",
    "            new_row['Wavelength(A)'] = wave\n",
    "            new_rows.append(new_row)\n",
    "        rows_to_remove.append(row.index)\n",
    "new_rows = astropy.table.vstack(new_rows)\n",
    "line_table.remove_rows(rows_to_remove)\n",
    "line_table = astropy.table.vstack([line_table, new_rows])\n",
    "line_table.rename_columns(\n",
    "    ['Ion','Wavelength(A)', 'PeakEmissivityTemp(Maxwell)', 'PeakEmissivityTemp(k=2)'],\n",
    "    ['ion name','wavelength', 'T_max (Maxwellian)', 'T_max (kappa=2)']\n",
    ")\n",
    "line_table = astropy.table.QTable(line_table,dtype=[str,float,str,str,float,float,str])\n",
    "# Fix inconsistent spacing in ion names\n",
    "def fix_ion_name_string(name):\n",
    "    components = name.split(' ')\n",
    "    if len(components) == 2:\n",
    "        return name\n",
    "    if name[1] == name[1].lower():\n",
    "        i_sep = 2\n",
    "    else:\n",
    "        i_sep = 1\n",
    "    return f'{name[:i_sep]} {name[i_sep:]}'\n",
    "line_table['ion name'] = list(map(fix_ion_name_string, line_table['ion name']))\n",
    "line_table['wavelength'].unit = 'Angstrom'\n",
    "line_table['T_max (Maxwellian)'] = 10**line_table['T_max (Maxwellian)'] * u.K\n",
    "line_table['T_max (kappa=2)'] = 10**line_table['T_max (kappa=2)'] * u.K\n",
    "# Split up Diagnostic column\n",
    "def does_row_contain(x, col):\n",
    "    return list(map(lambda _x: x in _x, col))\n",
    "line_table['temperature diagnostic'] = does_row_contain('T', line_table['Diagnostic'])\n",
    "line_table['density diagnostic'] = does_row_contain('n', line_table['Diagnostic'])\n",
    "line_table['kappa diagnostic'] = does_row_contain('κ', line_table['Diagnostic'])\n",
    "# Split up Instrument column\n",
    "line_table['sass'] = does_row_contain('SASS', line_table['Inst'])\n",
    "line_table['moxsi'] = does_row_contain('MOXSI', line_table['Inst'])\n",
    "# Split up Sensitivity column\n",
    "line_table['flare line'] = does_row_contain('FL', line_table['Sensitivity'])\n",
    "line_table['active region line'] = does_row_contain('AR', line_table['Sensitivity'])\n",
    "# Remove all composite columns\n",
    "line_table.remove_columns(['Diagnostic', 'Inst', 'Sensitivity'])\n",
    "# Add additional columns here\n",
    "line_table.add_row({\n",
    "    'ion name': 'Si XIV',\n",
    "    'wavelength': si14.transitions.wavelength[~si14.transitions.is_twophoton][i_transition],\n",
    "    'T_max (Maxwellian)': si14.temperature[goft_si14_select.argmax()],\n",
    "    'T_max (kappa=2)': np.nan * u.K,\n",
    "    'temperature diagnostic': True,\n",
    "    'density diagnostic': False,\n",
    "    'kappa diagnostic': False,\n",
    "    'sass': True,\n",
    "    'moxsi': True,\n",
    "    'flare line': True,\n",
    "    'active region line': True,\n",
    "})\n",
    "# This should be done last\n",
    "line_table.sort('wavelength')\n",
    "# Add metadata\n",
    "line_table.meta['comment'] = \"This line list was originally curated by P.S. Athiray on 10/23, starting with the original line list from the CubIXSS. Determinations of Kappa sensitivity are based on Dudík et al. (2019); kappa temperatures are computed using the KAPPA database.\""
   ]
  },
  {
   "cell_type": "code",
   "execution_count": 7,
   "id": "7637c9ae-f5d9-4c37-a53f-affcc7ffe18f",
   "metadata": {},
   "outputs": [
    {
     "data": {
      "text/html": [
       "<div><i>QTable length=32</i>\n",
       "<table id=\"table5739069584\" class=\"table-striped table-bordered table-condensed\">\n",
       "<thead><tr><th>ion name</th><th>wavelength</th><th>T_max (Maxwellian)</th><th>T_max (kappa=2)</th><th>temperature diagnostic</th><th>density diagnostic</th><th>kappa diagnostic</th><th>sass</th><th>moxsi</th><th>flare line</th><th>active region line</th></tr></thead>\n",
       "<thead><tr><th></th><th>Angstrom</th><th>K</th><th>K</th><th></th><th></th><th></th><th></th><th></th><th></th><th></th></tr></thead>\n",
       "<thead><tr><th>str8</th><th>float64</th><th>float64</th><th>float64</th><th>bool</th><th>bool</th><th>bool</th><th>bool</th><th>bool</th><th>bool</th><th>bool</th></tr></thead>\n",
       "<tr><td>Fe XXV</td><td>1.86</td><td>31622776.60168379</td><td>31622776.60168379</td><td>True</td><td>False</td><td>False</td><td>True</td><td>False</td><td>True</td><td>False</td></tr>\n",
       "<tr><td>Ca XIX</td><td>3.21</td><td>25118864.315095823</td><td>31622776.60168379</td><td>True</td><td>False</td><td>False</td><td>True</td><td>False</td><td>True</td><td>False</td></tr>\n",
       "<tr><td>Si XIV</td><td>6.1804</td><td>16185305.906356486</td><td>nan</td><td>True</td><td>False</td><td>False</td><td>True</td><td>True</td><td>True</td><td>True</td></tr>\n",
       "<tr><td>Si XIII</td><td>6.74</td><td>10000000.0</td><td>12589254.117941663</td><td>True</td><td>False</td><td>False</td><td>True</td><td>True</td><td>True</td><td>False</td></tr>\n",
       "<tr><td>Mg XII</td><td>8.419</td><td>10000000.0</td><td>15848931.924611142</td><td>True</td><td>False</td><td>False</td><td>True</td><td>True</td><td>True</td><td>False</td></tr>\n",
       "<tr><td>Mg XI</td><td>9.169</td><td>6309573.44480193</td><td>10000000.0</td><td>True</td><td>False</td><td>False</td><td>False</td><td>True</td><td>True</td><td>True</td></tr>\n",
       "<tr><td>Mg XI</td><td>9.314</td><td>6309573.44480193</td><td>10000000.0</td><td>True</td><td>False</td><td>False</td><td>False</td><td>True</td><td>True</td><td>True</td></tr>\n",
       "<tr><td>Fe XXIV</td><td>11.171</td><td>19952623.149688788</td><td>31622776.60168379</td><td>True</td><td>False</td><td>False</td><td>True</td><td>True</td><td>True</td><td>False</td></tr>\n",
       "<tr><td>Fe XVII</td><td>11.25</td><td>6309573.44480193</td><td>7943282.347242822</td><td>True</td><td>False</td><td>True</td><td>False</td><td>True</td><td>True</td><td>True</td></tr>\n",
       "<tr><td>Fe XXIII</td><td>11.737</td><td>15848931.924611142</td><td>31622776.60168379</td><td>True</td><td>False</td><td>False</td><td>True</td><td>True</td><td>True</td><td>False</td></tr>\n",
       "<tr><td>Ne X</td><td>12.137</td><td>6309573.44480193</td><td>7943282.347242822</td><td>True</td><td>False</td><td>False</td><td>True</td><td>True</td><td>True</td><td>True</td></tr>\n",
       "<tr><td>Fe XX</td><td>12.83</td><td>10000000.0</td><td>15848931.924611142</td><td>True</td><td>False</td><td>False</td><td>False</td><td>True</td><td>True</td><td>False</td></tr>\n",
       "<tr><td>Ne IX</td><td>13.447</td><td>3981071.7055349695</td><td>5011872.336272725</td><td>True</td><td>False</td><td>True</td><td>False</td><td>True</td><td>True</td><td>True</td></tr>\n",
       "<tr><td>Fe XIX</td><td>13.53</td><td>10000000.0</td><td>15848931.924611142</td><td>True</td><td>False</td><td>False</td><td>False</td><td>True</td><td>True</td><td>False</td></tr>\n",
       "<tr><td>Ne IX</td><td>13.669</td><td>3981071.7055349695</td><td>5011872.336272725</td><td>True</td><td>False</td><td>True</td><td>False</td><td>True</td><td>True</td><td>True</td></tr>\n",
       "<tr><td>Fe XVIII</td><td>14.204</td><td>7943282.347242822</td><td>10000000.0</td><td>True</td><td>False</td><td>True</td><td>False</td><td>True</td><td>True</td><td>True</td></tr>\n",
       "<tr><td>Fe XVII</td><td>15.015</td><td>6309573.44480193</td><td>7943282.347242822</td><td>True</td><td>False</td><td>True</td><td>False</td><td>True</td><td>True</td><td>True</td></tr>\n",
       "<tr><td>Fe XVII</td><td>15.25</td><td>6309573.44480193</td><td>7943282.347242822</td><td>True</td><td>False</td><td>True</td><td>False</td><td>True</td><td>True</td><td>True</td></tr>\n",
       "<tr><td>O VIII</td><td>16.006</td><td>3162277.6601683795</td><td>3981071.7055349695</td><td>True</td><td>True</td><td>True</td><td>False</td><td>True</td><td>True</td><td>True</td></tr>\n",
       "<tr><td>Fe XVII</td><td>16.78</td><td>6309573.44480193</td><td>7943282.347242822</td><td>True</td><td>False</td><td>True</td><td>False</td><td>True</td><td>True</td><td>True</td></tr>\n",
       "<tr><td>Fe XVII</td><td>17.05</td><td>6309573.44480193</td><td>7943282.347242822</td><td>True</td><td>False</td><td>True</td><td>False</td><td>True</td><td>True</td><td>True</td></tr>\n",
       "<tr><td>Fe XVIII</td><td>17.621</td><td>7943282.347242822</td><td>10000000.0</td><td>True</td><td>False</td><td>True</td><td>False</td><td>True</td><td>True</td><td>True</td></tr>\n",
       "<tr><td>O VII</td><td>18.67</td><td>1995262.3149688789</td><td>2511886.4315095823</td><td>True</td><td>True</td><td>True</td><td>False</td><td>True</td><td>True</td><td>True</td></tr>\n",
       "<tr><td>O VIII</td><td>18.967</td><td>3162277.6601683795</td><td>3981071.7055349695</td><td>True</td><td>True</td><td>True</td><td>False</td><td>True</td><td>True</td><td>True</td></tr>\n",
       "<tr><td>O VII</td><td>21.6</td><td>1995262.3149688789</td><td>2511886.4315095823</td><td>True</td><td>True</td><td>True</td><td>False</td><td>True</td><td>True</td><td>True</td></tr>\n",
       "<tr><td>O VII</td><td>21.81</td><td>1995262.3149688789</td><td>2511886.4315095823</td><td>True</td><td>True</td><td>True</td><td>False</td><td>True</td><td>True</td><td>True</td></tr>\n",
       "<tr><td>O VII</td><td>22.1</td><td>1995262.3149688789</td><td>2511886.4315095823</td><td>True</td><td>True</td><td>True</td><td>False</td><td>True</td><td>True</td><td>True</td></tr>\n",
       "<tr><td>N VII</td><td>24.77</td><td>1995262.3149688789</td><td>3162277.6601683795</td><td>True</td><td>False</td><td>False</td><td>False</td><td>True</td><td>True</td><td>True</td></tr>\n",
       "<tr><td>C VI</td><td>33.73</td><td>1258925.411794166</td><td>1995262.3149688789</td><td>True</td><td>False</td><td>False</td><td>False</td><td>True</td><td>False</td><td>True</td></tr>\n",
       "<tr><td>C V</td><td>40.27</td><td>1000000.0</td><td>1258925.411794166</td><td>True</td><td>False</td><td>False</td><td>False</td><td>True</td><td>False</td><td>True</td></tr>\n",
       "<tr><td>Si XII</td><td>44.16</td><td>1995262.3149688789</td><td>3162277.6601683795</td><td>True</td><td>False</td><td>False</td><td>False</td><td>True</td><td>True</td><td>True</td></tr>\n",
       "<tr><td>Si XI</td><td>49.18</td><td>1584893.1924611141</td><td>1995262.3149688789</td><td>True</td><td>False</td><td>False</td><td>False</td><td>True</td><td>False</td><td>True</td></tr>\n",
       "</table></div>"
      ],
      "text/plain": [
       "<QTable length=32>\n",
       "ion name wavelength T_max (Maxwellian)  T_max (kappa=2)   temperature diagnostic density diagnostic kappa diagnostic  sass moxsi flare line active region line\n",
       "          Angstrom          K                  K                                                                                                              \n",
       "  str8    float64        float64            float64                bool                 bool              bool        bool  bool    bool           bool       \n",
       "-------- ---------- ------------------ ------------------ ---------------------- ------------------ ---------------- ----- ----- ---------- ------------------\n",
       "  Fe XXV       1.86  31622776.60168379  31622776.60168379                   True              False            False  True False       True              False\n",
       "  Ca XIX       3.21 25118864.315095823  31622776.60168379                   True              False            False  True False       True              False\n",
       "  Si XIV     6.1804 16185305.906356486                nan                   True              False            False  True  True       True               True\n",
       " Si XIII       6.74         10000000.0 12589254.117941663                   True              False            False  True  True       True              False\n",
       "  Mg XII      8.419         10000000.0 15848931.924611142                   True              False            False  True  True       True              False\n",
       "   Mg XI      9.169   6309573.44480193         10000000.0                   True              False            False False  True       True               True\n",
       "   Mg XI      9.314   6309573.44480193         10000000.0                   True              False            False False  True       True               True\n",
       " Fe XXIV     11.171 19952623.149688788  31622776.60168379                   True              False            False  True  True       True              False\n",
       " Fe XVII      11.25   6309573.44480193  7943282.347242822                   True              False             True False  True       True               True\n",
       "Fe XXIII     11.737 15848931.924611142  31622776.60168379                   True              False            False  True  True       True              False\n",
       "    Ne X     12.137   6309573.44480193  7943282.347242822                   True              False            False  True  True       True               True\n",
       "   Fe XX      12.83         10000000.0 15848931.924611142                   True              False            False False  True       True              False\n",
       "   Ne IX     13.447 3981071.7055349695  5011872.336272725                   True              False             True False  True       True               True\n",
       "  Fe XIX      13.53         10000000.0 15848931.924611142                   True              False            False False  True       True              False\n",
       "   Ne IX     13.669 3981071.7055349695  5011872.336272725                   True              False             True False  True       True               True\n",
       "Fe XVIII     14.204  7943282.347242822         10000000.0                   True              False             True False  True       True               True\n",
       " Fe XVII     15.015   6309573.44480193  7943282.347242822                   True              False             True False  True       True               True\n",
       " Fe XVII      15.25   6309573.44480193  7943282.347242822                   True              False             True False  True       True               True\n",
       "  O VIII     16.006 3162277.6601683795 3981071.7055349695                   True               True             True False  True       True               True\n",
       " Fe XVII      16.78   6309573.44480193  7943282.347242822                   True              False             True False  True       True               True\n",
       " Fe XVII      17.05   6309573.44480193  7943282.347242822                   True              False             True False  True       True               True\n",
       "Fe XVIII     17.621  7943282.347242822         10000000.0                   True              False             True False  True       True               True\n",
       "   O VII      18.67 1995262.3149688789 2511886.4315095823                   True               True             True False  True       True               True\n",
       "  O VIII     18.967 3162277.6601683795 3981071.7055349695                   True               True             True False  True       True               True\n",
       "   O VII       21.6 1995262.3149688789 2511886.4315095823                   True               True             True False  True       True               True\n",
       "   O VII      21.81 1995262.3149688789 2511886.4315095823                   True               True             True False  True       True               True\n",
       "   O VII       22.1 1995262.3149688789 2511886.4315095823                   True               True             True False  True       True               True\n",
       "   N VII      24.77 1995262.3149688789 3162277.6601683795                   True              False            False False  True       True               True\n",
       "    C VI      33.73  1258925.411794166 1995262.3149688789                   True              False            False False  True      False               True\n",
       "     C V      40.27          1000000.0  1258925.411794166                   True              False            False False  True      False               True\n",
       "  Si XII      44.16 1995262.3149688789 3162277.6601683795                   True              False            False False  True       True               True\n",
       "   Si XI      49.18 1584893.1924611141 1995262.3149688789                   True              False            False False  True      False               True"
      ]
     },
     "execution_count": 7,
     "metadata": {},
     "output_type": "execute_result"
    }
   ],
   "source": [
    "line_table"
   ]
  },
  {
   "cell_type": "code",
   "execution_count": 8,
   "id": "09720add-154b-43f0-ba32-52f0bad17d6d",
   "metadata": {},
   "outputs": [
    {
     "name": "stderr",
     "output_type": "stream",
     "text": [
      "WARNING: UnitsWarning: The unit 'Angstrom' has been deprecated in the VOUnit standard. Suggested: 0.1nm. [astropy.units.format.utils]\n",
      "WARNING: UnitsWarning: The unit 'Angstrom' has been deprecated in the VOUnit standard. Suggested: 0.1nm. [astropy.units.format.utils]\n"
     ]
    }
   ],
   "source": [
    "line_table.write('../data/line_lists/curated_line_list.asdf')"
   ]
  },
  {
   "cell_type": "markdown",
   "id": "60b739ad-9f38-4268-aa1e-b74feae4f77e",
   "metadata": {},
   "source": [
    "TODO: augment this list with some of the lower-energy lines > 40 Angstroms, particularly those from Fe XIV, XV, XVI"
   ]
  },
  {
   "cell_type": "code",
   "execution_count": null,
   "id": "460df3b3-b3ce-4686-84c9-82eab13e278e",
   "metadata": {},
   "outputs": [],
   "source": []
  }
 ],
 "metadata": {
  "kernelspec": {
   "display_name": "Python [conda env:mocksipipeline-dev]",
   "language": "python",
   "name": "conda-env-mocksipipeline-dev-py"
  },
  "language_info": {
   "codemirror_mode": {
    "name": "ipython",
    "version": 3
   },
   "file_extension": ".py",
   "mimetype": "text/x-python",
   "name": "python",
   "nbconvert_exporter": "python",
   "pygments_lexer": "ipython3",
   "version": "3.11.6"
  }
 },
 "nbformat": 4,
 "nbformat_minor": 5
}
