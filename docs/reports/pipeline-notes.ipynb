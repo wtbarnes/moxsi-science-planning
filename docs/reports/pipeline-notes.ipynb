{
 "cells": [
  {
   "cell_type": "markdown",
   "id": "074948ea-c1cb-4c43-b886-84d7abaf465f",
   "metadata": {},
   "source": [
    "# Forward Modeling MOXSI Data\n",
    "\n",
    "Some brief notes on forward modeling MOXSI data such that each step is explicitly spelled out. At a high level, the steps for computing a MOXSI image are as follows:\n",
    "\n",
    "1. Compute a DEM\n",
    "2. Fold DEM through spectra from CHIANTI\n",
    "3. Multiply the resulting spectra by the instrument wavelength response function\n",
    "4. Reproject the spectral cube to the detector plane\n",
    "\n",
    "Below, more details are provided about each step. After each step, we will denote the resulting quantity and the associated units as denoted in $[]$."
   ]
  },
  {
   "cell_type": "markdown",
   "id": "a1a494f9-1c09-4dfe-981f-e70662794415",
   "metadata": {},
   "source": [
    "## 1. Compute differential emission measure (DEM)"
   ]
  },
  {
   "cell_type": "markdown",
   "id": "a5bdfc7d-77be-41dc-bdc2-4d2c465b0b24",
   "metadata": {},
   "source": [
    "Using a combination of AIA and XRT data, compute a differential emission measure (DEM) distribution for the full sun.\n",
    "Before running the DEM inversion code, each image is reprojected to the same WCS such that all images are aligned.\n",
    "Note that the images need not be at the exact detector resolution, but they should be below the resolution and should include as large a FOV as possible (full sun at minimum).\n",
    "Additionally, the AIA images are corrected for any instrument degradation and all images are normalized to the exposure time.\n",
    "\n",
    "As such, the differential emission measure will be a function of both space and temperature and will be denoted as\n",
    "\n",
    "$$\n",
    "\\xi(x,y,T)\\quad\\quad[\\mathrm{cm}^{-5}\\mathrm{K}^{-1}]\n",
    "$$"
   ]
  },
  {
   "cell_type": "markdown",
   "id": "215595c1-b039-4f08-b87c-67ccea65440c",
   "metadata": {},
   "source": [
    "## 2. Compute intensity"
   ]
  },
  {
   "cell_type": "markdown",
   "id": "ed3d7de9-2dfe-44e2-a9d0-6134cdcc74fe",
   "metadata": {},
   "source": [
    "### 2a. Get spectral table from CHIANTI"
   ]
  },
  {
   "cell_type": "markdown",
   "id": "c4492f62-9243-4df3-bdff-f12003de08a5",
   "metadata": {},
   "source": [
    "To transform $\\xi$ into intensity, we first compute a set of isothermal spectra using the CHIANTI database.\n",
    "This is done using the `ch_synthetic` and `make_chianti_spec` routines in CHIANTI IDL.\n",
    "The temperature range is chosen to include all temperatures in the calculation from step 1.\n",
    "It is assumed that the pressure is constant at $10^{15}$ cm$^{-3}$ K such that density varies inversely with $T$.\n",
    "The spectral range is chosen such that it fully includes the bandpass of the instrument.\n",
    "We include all continuum contributions (free-free, free-bound, two-photon) in the spectrum as well as all lines from the database.\n",
    "\n",
    "The resulting spectral table is denoted as\n",
    "\n",
    "$$\n",
    "\\mathcal{I}(\\lambda, T)\\quad\\quad[\\mathrm{cm}^3\\mathrm{ph}\\,\\mathrm{Å}^{-1}\\mathrm{s}^{-1}\\mathrm{sr}^{-1}]\n",
    "$$"
   ]
  },
  {
   "cell_type": "markdown",
   "id": "62815adc-c773-4d88-8eda-0c697b97320d",
   "metadata": {},
   "source": [
    "### 2b. Compute intensity from spectra and DEM\n",
    "\n",
    "To convert our DEM into intensity, we integrate the spectral table over $T$ weighted by $\\xi$.\n",
    "This gives us intensity, in physical units, at each spatial location as a function of wavelength, \n",
    "\n",
    "$$\n",
    "I(x, y, \\lambda) = \\int_T\\mathrm{d}T\\,\\xi(x,y,T)\\mathcal{I}(\\lambda, T)\\quad\\quad[\\mathrm{ph}\\,\\mathrm{cm}^{-2}\\mathrm{Å}^{-1}\\mathrm{s}^{-1}\\mathrm{sr}^{-1}]\n",
    "$$"
   ]
  },
  {
   "cell_type": "markdown",
   "id": "b0b14665-1a96-437d-873b-0ada62f54afc",
   "metadata": {
    "tags": []
   },
   "source": [
    "## 3. Convert to detector units"
   ]
  },
  {
   "cell_type": "markdown",
   "id": "66a1a480-a6a5-4557-b190-c776b93c3501",
   "metadata": {},
   "source": [
    "### 3a. Effective Area"
   ]
  },
  {
   "cell_type": "markdown",
   "id": "c0b7b3ed-b15e-4361-ae7a-c87e840c2171",
   "metadata": {},
   "source": [
    "To convert from physical units to detector units, we use the effective area of the instrument.\n",
    "The effective area is dependent on wavelength $\\lambda$ as well as the particular spectral order $\\mu$ we are looking at,\n",
    "\n",
    "$$\n",
    "A_{eff}(\\mu,\\lambda) = A_{geo}T_F(\\lambda)E_D(\\lambda)E_G(\\lambda,\\mu) \\quad\\quad [\\mathrm{cm}^2]\n",
    "$$\n",
    "\n",
    "where $A_{geo}$ is the geometrical collecting area of the pinhole, $T_F$ is the filter transmission, $E_D$ is the detector efficiency, and $E_G$ is the efficiency of the grating.\n",
    "Note that $E_G$ varies with spectral order $\\mu$."
   ]
  },
  {
   "cell_type": "markdown",
   "id": "6c7b7ed6-dbea-4951-b07f-e222d6a2792b",
   "metadata": {},
   "source": [
    "### 3b. Gain"
   ]
  },
  {
   "cell_type": "markdown",
   "id": "6a38fe3d-c390-4de5-9ec0-9db22abad8ca",
   "metadata": {},
   "source": [
    "Additionally, to convert from photons to DN, we can multiply by the gain,\n",
    "\n",
    "$$\n",
    "g(\\lambda) = \\frac{g_{camera}}{3.65}\\frac{hc}{\\lambda}\\quad\\quad[\\mathrm{DN}\\,\\mathrm{ph}^{-1}]\n",
    "$$"
   ]
  },
  {
   "cell_type": "markdown",
   "id": "3147f303-31ca-43b4-bce9-9133cdb91c20",
   "metadata": {},
   "source": [
    "### 3c. Plate Scale"
   ]
  },
  {
   "cell_type": "markdown",
   "id": "49de94ee-2e06-4079-a0c2-656f8bd9de9f",
   "metadata": {},
   "source": [
    "We need to also multiply by the spatial and spectral plate scales,\n",
    "\n",
    "$$\n",
    "\\delta_{xy}\\quad\\quad[\\mathrm{sr}\\,\\mathrm{pix}^{-1}]\n",
    "$$\n",
    "$$\n",
    "\\delta_\\lambda\\quad\\quad[\\mathrm{Å}]\n",
    "$$"
   ]
  },
  {
   "cell_type": "markdown",
   "id": "ddc7eee4-d926-4911-ba61-0d18b6ce5dec",
   "metadata": {},
   "source": [
    "### 3d. Combined wavelength response"
   ]
  },
  {
   "cell_type": "markdown",
   "id": "66755d0b-1aa8-4586-bac9-2a1f81a10944",
   "metadata": {},
   "source": [
    "Thus, to convert to physical units, we combine all of these factors together to convert to a flux in detector units,\n",
    "\n",
    "$$\n",
    "p(x,y,\\lambda,\\mu) = I(x,y,\\lambda)A_{eff}(\\lambda,\\mu)g(\\lambda)\\delta_{xy}\\delta_{\\lambda} \\quad\\quad [\\mathrm{DN}\\,\\mathrm{s}^{-1}\\mathrm{pix}^{-1}]\n",
    "$$\n",
    "\n",
    "Note that if we want our flux in photons rather than DN, we drop the gain term $g$,\n",
    "\n",
    "$$\n",
    "p^{\\prime}(x,y,\\lambda,\\mu) = I(x,y,\\lambda)A_{eff}(\\lambda,\\mu)\\delta_{xy}\\delta_{\\lambda} \\quad\\quad [\\mathrm{ph}\\,\\mathrm{s}^{-1}\\mathrm{pix}^{-1}]\n",
    "$$"
   ]
  },
  {
   "cell_type": "markdown",
   "id": "eb5b59d2-d368-40cd-abc8-6fa3aaef7c99",
   "metadata": {},
   "source": [
    "Also note that this is specific to a given spectral order $\\mu$ because of the dependence in the effective area term"
   ]
  },
  {
   "cell_type": "markdown",
   "id": "8a7dea01-06c0-40c2-be79-50c3c9f672e2",
   "metadata": {},
   "source": [
    "## 4. Reproject to detector geometry"
   ]
  },
  {
   "cell_type": "markdown",
   "id": "d417f6b3-ef9b-43e5-952e-baea1d3e3da7",
   "metadata": {},
   "source": [
    "We can now transform our spectral cube coordinates $(x,y,\\lambda,\\mu)$ into detector coordinates $(p_1, p_2, p_3)$.\n",
    "Note that the final coordinate $p_3$ is actually degenerate as we will sum along the $p_3$ axis to create our overlapped image.\n",
    "However, our coordinate system will still vary over $p_3$.\n",
    "That is, our particular world coordinate system is dependent on a chosen $\\lambda$ as denoted by $p_3$."
   ]
  },
  {
   "cell_type": "markdown",
   "id": "ebf768c3-b272-4977-8525-b57342d101ea",
   "metadata": {},
   "source": [
    "We transform our grid according to the following `PC_ij` matrix,\n",
    "\n",
    "$$\n",
    "M = R(-(\\alpha-\\gamma))D(\\mu)R(-\\gamma)\n",
    " = \\begin{bmatrix}\n",
    "\\cos{\\left(\\alpha \\right)} & \\sin{\\left(\\alpha \\right)} & - \\mu \\sin{\\left(\\alpha - \\gamma \\right)}\\\\\n",
    "-\\sin{\\left(\\alpha \\right)} & \\cos{\\left(\\alpha \\right)} & - \\mu \\cos{\\left(\\alpha - \\gamma \\right)}\\\\\n",
    "0 & 0 & 1\n",
    "\\end{bmatrix}\n",
    "$$\n",
    "\n",
    "where $\\alpha$ denotes the roll of the instrument and $\\gamma$ the direction of the dispersion across the detector."
   ]
  },
  {
   "cell_type": "markdown",
   "id": "cefc641f-5cfa-42aa-b874-8fc7dfe3caea",
   "metadata": {},
   "source": [
    "To map our coordinates from our spectral cube to the detector geometry, we construct a WCS using the above `PC_ij` and reproject from the WCS of our spectral cube to the WCS of the detector.\n",
    "We perform this operation for each spectral order ($\\mu=-3, -1, 0, +1, +3$) and then sum all orders.\n",
    "Note that Step 3 (above) must be performed for each spectral order as well."
   ]
  },
  {
   "cell_type": "code",
   "execution_count": null,
   "id": "d70c7a3a-6f2a-443c-9ca9-64e97c893925",
   "metadata": {},
   "outputs": [],
   "source": []
  }
 ],
 "metadata": {
  "kernelspec": {
   "display_name": "Python [conda env:mocksipipeline]",
   "language": "python",
   "name": "conda-env-mocksipipeline-py"
  },
  "language_info": {
   "codemirror_mode": {
    "name": "ipython",
    "version": 3
   },
   "file_extension": ".py",
   "mimetype": "text/x-python",
   "name": "python",
   "nbconvert_exporter": "python",
   "pygments_lexer": "ipython3",
   "version": "3.9.13"
  }
 },
 "nbformat": 4,
 "nbformat_minor": 5
}
