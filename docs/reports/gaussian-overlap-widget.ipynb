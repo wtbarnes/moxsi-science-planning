{
 "cells": [
  {
   "cell_type": "markdown",
   "id": "cb193405-f18a-42c2-a842-42f491321138",
   "metadata": {},
   "source": [
    "# Gaussian Overlap Illustration\n",
    "\n",
    "This notebook implements a very simple widget to illustrate that when we have two lines (with a Gaussian shape) that overlap, the peak of the resulting spectra is dependent on the distance between the line centers and relative widths and amplitudes. Thus, estimating whether the line is falling in the \"correct\" place or not is difficult to do unless you're confident the line is in fact relatively well isolated (this never happens). "
   ]
  },
  {
   "cell_type": "code",
   "execution_count": 1,
   "id": "0a94dfab-3fe3-4094-9dee-27abfc2f1693",
   "metadata": {
    "tags": []
   },
   "outputs": [],
   "source": [
    "import ipywidgets\n",
    "import astropy.modeling\n",
    "import numpy as np\n",
    "import matplotlib.pyplot as plt"
   ]
  },
  {
   "cell_type": "code",
   "execution_count": 2,
   "id": "43f6041e-9264-4d4f-ab4a-8d90a8287266",
   "metadata": {
    "tags": []
   },
   "outputs": [],
   "source": [
    "a1_slider = ipywidgets.FloatSlider(\n",
    "    value=1.0,\n",
    "    min=0.0,\n",
    "    max=1.0,\n",
    "    step=0.01,\n",
    "    description=r'$A_1$',\n",
    "    readout_format='.2f',\n",
    ")\n",
    "a2_slider = ipywidgets.FloatSlider(\n",
    "    value=1.0,\n",
    "    min=0.0,\n",
    "    max=1.0,\n",
    "    step=0.01,\n",
    "    description=r'$A_2$',\n",
    "    readout_format='.2f',\n",
    ")\n",
    "m1_slider = ipywidgets.FloatSlider(\n",
    "    value=.25,\n",
    "    min=0.0,\n",
    "    max=1.0,\n",
    "    step=0.01,\n",
    "    description=r'$\\mu_1$',\n",
    "    readout_format='.2f',\n",
    ")\n",
    "m2_slider = ipywidgets.FloatSlider(\n",
    "    value=.75,\n",
    "    min=0.0,\n",
    "    max=1.0,\n",
    "    step=0.01,\n",
    "    description=r'$\\mu_2$',\n",
    "    readout_format='.2f',\n",
    ")\n",
    "sigma1_slider = ipywidgets.FloatSlider(\n",
    "    value=.1,\n",
    "    min=0.01,\n",
    "    max=1.0,\n",
    "    step=0.01,\n",
    "    description=r'$\\sigma_1$',\n",
    "    readout_format='.2f',\n",
    ")\n",
    "sigma2_slider = ipywidgets.FloatSlider(\n",
    "    value=.1,\n",
    "    min=0.01,\n",
    "    max=1.0,\n",
    "    step=0.01,\n",
    "    description=r'$\\sigma_2$',\n",
    "    readout_format='.2f',\n",
    ")"
   ]
  },
  {
   "cell_type": "code",
   "execution_count": 3,
   "id": "c657e569-89c3-47af-9415-cf7f588402c6",
   "metadata": {
    "tags": []
   },
   "outputs": [],
   "source": [
    "def plot_gaussians(a1, a2, m1, m2, sigma1, sigma2):\n",
    "    g1 = astropy.modeling.models.Gaussian1D(amplitude=a1, mean=m1, stddev=sigma1)\n",
    "    g2 = astropy.modeling.models.Gaussian1D(amplitude=a2, mean=m2, stddev=sigma2)\n",
    "    x = np.linspace(0,1,1000)\n",
    "    fig = plt.figure()\n",
    "    ax = fig.add_subplot()\n",
    "    l1, = ax.plot(x, g1(x), label=r'$g_1$')\n",
    "    l2, = ax.plot(x, g2(x), label=r'$g_2$')\n",
    "    total = g1(x)+g2(x)\n",
    "    l3, = ax.plot(x, total, label=r'$g_1+g_2$')\n",
    "    ax.axvline(x=x[np.argmax(g1(x))], color=l1.get_color(), ls='--')\n",
    "    ax.axvline(x=x[np.argmax(g2(x))], color=l2.get_color(), ls='--')\n",
    "    ax.axvline(x=x[np.argmax(total)], color=l3.get_color(), ls='--')\n",
    "    ax.legend()"
   ]
  },
  {
   "cell_type": "code",
   "execution_count": 4,
   "id": "48acde8d-4704-434b-99ad-e6b88f9061ff",
   "metadata": {
    "tags": []
   },
   "outputs": [
    {
     "data": {
      "application/vnd.jupyter.widget-view+json": {
       "model_id": "687c653dfd054655a923f81c98fedf3c",
       "version_major": 2,
       "version_minor": 0
      },
      "text/plain": [
       "interactive(children=(FloatSlider(value=1.0, description='$A_1$', max=1.0, step=0.01), FloatSlider(value=1.0, …"
      ]
     },
     "metadata": {},
     "output_type": "display_data"
    },
    {
     "data": {
      "text/plain": [
       "<function __main__.plot_gaussians(a1, a2, m1, m2, sigma1, sigma2)>"
      ]
     },
     "execution_count": 4,
     "metadata": {},
     "output_type": "execute_result"
    }
   ],
   "source": [
    "ipywidgets.interact(plot_gaussians, a1=a1_slider, a2=a2_slider, m1=m1_slider, m2=m2_slider, sigma1=sigma1_slider, sigma2=sigma2_slider)"
   ]
  },
  {
   "cell_type": "code",
   "execution_count": null,
   "id": "b4e177ea-437e-4a0f-b81f-b35f6e5fb71f",
   "metadata": {},
   "outputs": [],
   "source": []
  }
 ],
 "metadata": {
  "kernelspec": {
   "display_name": "Python [conda env:mocksipipeline]",
   "language": "python",
   "name": "conda-env-mocksipipeline-py"
  },
  "language_info": {
   "codemirror_mode": {
    "name": "ipython",
    "version": 3
   },
   "file_extension": ".py",
   "mimetype": "text/x-python",
   "name": "python",
   "nbconvert_exporter": "python",
   "pygments_lexer": "ipython3",
   "version": "3.9.13"
  }
 },
 "nbformat": 4,
 "nbformat_minor": 5
}
